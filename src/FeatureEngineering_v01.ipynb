{
 "cells": [
  {
   "cell_type": "code",
   "execution_count": 1,
   "metadata": {
    "collapsed": false
   },
   "outputs": [],
   "source": [
    "import numpy as np\n",
    "import pandas as pd\n",
    "\n",
    "%load_ext autoreload\n",
    "%autoreload 1\n",
    "%aimport CodingFeatures"
   ]
  },
  {
   "cell_type": "code",
   "execution_count": 6,
   "metadata": {
    "collapsed": false
   },
   "outputs": [
    {
     "name": "stdout",
     "output_type": "stream",
     "text": [
      "CATTACTGTCACAATTTCCAACAGCACCAAATTACCCCCAGGCGGATGGTTCAGTAAAACTGGCAGCAGGTTGGCTTATCGATCAGTGCCAGCTAAAAGGGATGCAAATAGGTGGGGCTGCGGTGCACCGTCAACAGGCGTTAGTTCTCA\n"
     ]
    }
   ],
   "source": [
    "with open('../data/tmp_seq_rpoB-20kb.txt','r') as f:\n",
    "    seq_raw = f.read()\n",
    "print(seq_raw[:150])"
   ]
  },
  {
   "cell_type": "code",
   "execution_count": 3,
   "metadata": {
    "collapsed": false
   },
   "outputs": [],
   "source": [
    "from CodingFeatures import codon_lookup\n",
    "from CodingFeatures import DNAFeatureExtraction, fragment_stop_delimited, fragment_windowed\n",
    "\n",
    "codon_table, c_lookup = codon_lookup()\n",
    "AA_list = codon_table['aa'].unique()[1:]\n",
    "seq_object = DNAFeatureExtraction(seq_raw).decode_dna(c_lookup)"
   ]
  },
  {
   "cell_type": "code",
   "execution_count": 4,
   "metadata": {
    "collapsed": false
   },
   "outputs": [
    {
     "data": {
      "text/plain": [
       "<CodingFeatures.DNAFeatureExtraction at 0x10cd41198>"
      ]
     },
     "execution_count": 4,
     "metadata": {},
     "output_type": "execute_result"
    }
   ],
   "source": [
    "seq_object"
   ]
  },
  {
   "cell_type": "code",
   "execution_count": 62,
   "metadata": {
    "collapsed": true
   },
   "outputs": [],
   "source": [
    "from CodingFeatures import zerocross_pack, codon_bias_rms, aa_pack, statpack1, statpack2\n"
   ]
  },
  {
   "cell_type": "code",
   "execution_count": null,
   "metadata": {
    "collapsed": true
   },
   "outputs": [],
   "source": []
  },
  {
   "cell_type": "code",
   "execution_count": null,
   "metadata": {
    "collapsed": true
   },
   "outputs": [],
   "source": []
  }
 ],
 "metadata": {
  "kernelspec": {
   "display_name": "Python 3",
   "language": "python",
   "name": "python3"
  },
  "language_info": {
   "codemirror_mode": {
    "name": "ipython",
    "version": 3
   },
   "file_extension": ".py",
   "mimetype": "text/x-python",
   "name": "python",
   "nbconvert_exporter": "python",
   "pygments_lexer": "ipython3",
   "version": "3.5.2"
  }
 },
 "nbformat": 4,
 "nbformat_minor": 0
}
