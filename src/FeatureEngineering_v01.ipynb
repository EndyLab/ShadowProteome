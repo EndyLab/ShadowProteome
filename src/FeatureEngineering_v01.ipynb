{
 "cells": [
  {
   "cell_type": "code",
   "execution_count": 1,
   "metadata": {
    "collapsed": false
   },
   "outputs": [],
   "source": [
    "import numpy as np\n",
    "import pandas as pd\n",
    "\n",
    "%load_ext autoreload\n",
    "%autoreload 1\n",
    "%aimport CodingFeatures\n",
    "%aimport CodingTransformers"
   ]
  },
  {
   "cell_type": "raw",
   "metadata": {
    "collapsed": false
   },
   "source": [
    "with open('../data/tmp_seq_rpoB-20kb.txt','r') as f:\n",
    "    seq_raw = f.read()\n",
    "print(seq_raw[:150])"
   ]
  },
  {
   "cell_type": "markdown",
   "metadata": {},
   "source": [
    "## Import and initialize train/test data and reference tables"
   ]
  },
  {
   "cell_type": "code",
   "execution_count": 2,
   "metadata": {
    "collapsed": false
   },
   "outputs": [],
   "source": [
    "# get annotated protein sequences\n",
    "annotated = pd.read_csv('../data/BW25113proteome_dnaseq.csv') # get full sheet\n",
    "annotated = annotated.drop_duplicates('seq').dropna() # drop duplicated proteins and missing DNA_seq\n",
    "annotated['DNA_seq'] = annotated['DNA_seq'].apply(lambda x: x[3:]) # trim start codons from DNA_seq\n",
    "annotated['start'] = annotated['start'] + 3 # increment sequence location index\n",
    "\n",
    "training_data = annotated.loc[:,['DNA_seq','start']] # get sequence, location index\n",
    "training_data['label'] = True # label"
   ]
  },
  {
   "cell_type": "code",
   "execution_count": 3,
   "metadata": {
    "collapsed": true
   },
   "outputs": [],
   "source": [
    "from CodingFeatures import codon_lookup\n",
    "\n",
    "codon_table, c_lookup = codon_lookup()\n",
    "AA_list = codon_table['aa'].unique()[1:]"
   ]
  },
  {
   "cell_type": "code",
   "execution_count": 4,
   "metadata": {
    "collapsed": false
   },
   "outputs": [],
   "source": [
    "import random\n",
    "import re\n",
    "\n",
    "# generate negative training set\n",
    "acid_bag = list(zip(codon_table.index[3:],codon_table.f_tot[3:])) # zip AAs and total frequencies\n",
    "acid_bag = [[x[0]]*int(x[1]*10000) for x in acid_bag] # expand AAs by frequencies\n",
    "acid_bag = [x for X in acid_bag for x in X] # flatten list\n",
    "# random.seed(23)\n",
    "random.shuffle(acid_bag) # pseudo-randomize\n",
    "stop_bag = ['TAA','TAA','TAA','TAA','TAA','TAA','TAG','TGA','TGA','TGA']\n",
    "\n",
    "seq_random = []\n",
    "# generate randomized sequences matching annotated lengths with known whole-genome codon biases\n",
    "for L in annotated.length:\n",
    "    tmp = [random.choice(acid_bag) for x in range(L-1)] + [random.choice(stop_bag)]\n",
    "    seq_random.append(''.join(tmp))"
   ]
  },
  {
   "cell_type": "code",
   "execution_count": 5,
   "metadata": {
    "collapsed": false
   },
   "outputs": [
    {
     "name": "stdout",
     "output_type": "stream",
     "text": [
      "Axes(0.125,0.125;0.775x0.775)\n",
      "Axes(0.125,0.125;0.775x0.775)\n"
     ]
    },
    {
     "data": {
      "image/png": "[encoded data removed]",
      "text/plain": [
       "<matplotlib.figure.Figure at 0x1178ce9b0>"
      ]
     },
     "metadata": {},
     "output_type": "display_data"
    }
   ],
   "source": [
    "import matplotlib\n",
    "import matplotlib.pyplot as plt\n",
    "%matplotlib inline\n",
    "\n",
    "# check length distributions\n",
    "print(annotated.length.hist(bins=75, color='green'))\n",
    "print(pd.Series(map(lambda x: len(x)/3,seq_random)).hist(bins=75,color='magenta',alpha=.33))"
   ]
  },
  {
   "cell_type": "code",
   "execution_count": 6,
   "metadata": {
    "collapsed": false
   },
   "outputs": [],
   "source": [
    "# reformat negative training set, label\n",
    "training_random = pd.DataFrame(seq_random, columns=['DNA_seq'])\n",
    "training_random['start'] = 0\n",
    "training_random['label'] = False\n",
    "# append to training_data\n",
    "training_data = training_data.append(training_random, ignore_index=True)"
   ]
  },
  {
   "cell_type": "code",
   "execution_count": 7,
   "metadata": {
    "collapsed": false
   },
   "outputs": [],
   "source": [
    "from sklearn.cross_validation import train_test_split\n",
    "\n",
    "train, test = train_test_split(training_data, train_size=.8, random_state=17)"
   ]
  },
  {
   "cell_type": "code",
   "execution_count": 8,
   "metadata": {
    "collapsed": false
   },
   "outputs": [],
   "source": [
    "from CodingFeatures import DNAAttributeConstruction, fragment_stop_delimited, fragment_windowed\n",
    "\n",
    "train_object = DNAAttributeConstruction(list(train.DNA_seq), list(train.label), list(train.start)).decode_dna(c_lookup)\n",
    "test_object = DNAAttributeConstruction(list(test.DNA_seq), list(test.label), list(test.start)).decode_dna(c_lookup)"
   ]
  },
  {
   "cell_type": "markdown",
   "metadata": {},
   "source": [
    "## Feature extraction and model construction"
   ]
  },
  {
   "cell_type": "code",
   "execution_count": 9,
   "metadata": {
    "collapsed": true
   },
   "outputs": [],
   "source": [
    "from CodingFeatures import zerocross_pack, codon_bias_rms, aa_pack, class_pack, statpack1, statpack2\n",
    "from CodingTransformers import ArrayFunctionTransformer\n",
    "import sklearn as sk\n",
    "from sklearn.pipeline import Pipeline, FeatureUnion\n",
    "from sklearn.ensemble import RandomForestClassifier as RCF"
   ]
  },
  {
   "cell_type": "code",
   "execution_count": 10,
   "metadata": {
    "collapsed": true
   },
   "outputs": [],
   "source": [
    "FU = FeatureUnion([\n",
    "        ('aromatic', ArrayFunctionTransformer(statpack1,'aa_aromatic')),\n",
    "        ('classes', ArrayFunctionTransformer(class_pack, 'aa_class')),\n",
    "        ('hydro_z', ArrayFunctionTransformer(zerocross_pack, 'aa_hydrophob')),\n",
    "        ('hydro_s', ArrayFunctionTransformer(statpack1, 'aa_hydrophob')),\n",
    "        ('c_prefs', ArrayFunctionTransformer(statpack1, 'codon_pref')),\n",
    "        ('c_bias', ArrayFunctionTransformer(codon_bias_rms, 'fragments', params=(c_lookup, AA_list))),\n",
    "        ('aa_pack', ArrayFunctionTransformer(aa_pack, 'peptides', params=(AA_list,)))\n",
    "    ], n_jobs=-1)\n",
    "\n",
    "train_features = FU.transform(train_object)\n",
    "test_features = FU.transform(test_object)"
   ]
  },
  {
   "cell_type": "code",
   "execution_count": 11,
   "metadata": {
    "collapsed": false
   },
   "outputs": [],
   "source": [
    "model = RCF(random_state=17,n_jobs=-1).fit(train_features, train_object.labels)"
   ]
  },
  {
   "cell_type": "code",
   "execution_count": 11,
   "metadata": {
    "collapsed": true
   },
   "outputs": [],
   "source": [
    "from sklearn.metrics import classification_report as clf_report"
   ]
  },
  {
   "cell_type": "code",
   "execution_count": 12,
   "metadata": {
    "collapsed": false
   },
   "outputs": [
    {
     "name": "stdout",
     "output_type": "stream",
     "text": [
      "             precision    recall  f1-score   support\n",
      "\n",
      "      False      0.644     0.766     0.700     11658\n",
      "       True      0.703     0.566     0.627     11383\n",
      "\n",
      "avg / total      0.673     0.667     0.664     23041\n",
      "\n"
     ]
    }
   ],
   "source": [
    "# print(model.score(test_object, test_object.labels))\n",
    "print(clf_report(test_object.labels, model.predict(test_features), digits=3))"
   ]
  },
  {
   "cell_type": "markdown",
   "metadata": {},
   "source": [
    "## GridSearch"
   ]
  },
  {
   "cell_type": "code",
   "execution_count": 12,
   "metadata": {
    "collapsed": true
   },
   "outputs": [],
   "source": [
    "from sklearn.grid_search import GridSearchCV\n",
    "\n",
    "params = {'n_estimators':[10,20,50],\n",
    "          'max_features':['sqrt','log2',None],\n",
    "          'class_weight':['balanced','balanced_subsample',None]\n",
    "         }\n",
    "\n",
    "gridmodel = GridSearchCV(RCF(random_state=17,n_jobs=-1), cv=5, n_jobs=-1, param_grid=params)"
   ]
  },
  {
   "cell_type": "code",
   "execution_count": null,
   "metadata": {
    "collapsed": false
   },
   "outputs": [
    {
     "data": {
      "text/plain": [
       "GridSearchCV(cv=5, error_score='raise',\n",
       "       estimator=RandomForestClassifier(bootstrap=True, class_weight=None, criterion='gini',\n",
       "            max_depth=None, max_features='auto', max_leaf_nodes=None,\n",
       "            min_samples_leaf=1, min_samples_split=2,\n",
       "            min_weight_fraction_leaf=0.0, n_estimators=10, n_jobs=-1,\n",
       "            oob_score=False, random_state=17, verbose=0, warm_start=False),\n",
       "       fit_params={}, iid=True, n_jobs=-1,\n",
       "       param_grid={'class_weight': ['balanced', 'balanced_subsample', None], 'n_estimators': [10, 20, 50], 'max_features': ['sqrt', 'log2', None]},\n",
       "       pre_dispatch='2*n_jobs', refit=True, scoring=None, verbose=0)"
      ]
     },
     "execution_count": 20,
     "metadata": {},
     "output_type": "execute_result"
    }
   ],
   "source": [
    "gridmodel.fit(train_features, train_object.labels)"
   ]
  },
  {
   "cell_type": "code",
   "execution_count": null,
   "metadata": {
    "collapsed": false
   },
   "outputs": [
    {
     "name": "stdout",
     "output_type": "stream",
     "text": [
      "mean: 0.66491, std: 0.00597, params: {'class_weight': 'balanced', 'n_estimators': 10, 'max_features': 'sqrt'}\n",
      "mean: 0.68597, std: 0.00304, params: {'class_weight': 'balanced', 'n_estimators': 20, 'max_features': 'sqrt'}\n",
      "mean: 0.70773, std: 0.00358, params: {'class_weight': 'balanced', 'n_estimators': 50, 'max_features': 'sqrt'}\n",
      "mean: 0.64849, std: 0.00541, params: {'class_weight': 'balanced', 'n_estimators': 10, 'max_features': 'log2'}\n",
      "mean: 0.67378, std: 0.00255, params: {'class_weight': 'balanced', 'n_estimators': 20, 'max_features': 'log2'}\n",
      "mean: 0.70035, std: 0.00311, params: {'class_weight': 'balanced', 'n_estimators': 50, 'max_features': 'log2'}\n",
      "mean: 0.67536, std: 0.00315, params: {'class_weight': 'balanced', 'n_estimators': 10, 'max_features': None}\n",
      "mean: 0.69374, std: 0.00293, params: {'class_weight': 'balanced', 'n_estimators': 20, 'max_features': None}\n",
      "mean: 0.70875, std: 0.00168, params: {'class_weight': 'balanced', 'n_estimators': 50, 'max_features': None}\n",
      "mean: 0.66249, std: 0.00214, params: {'class_weight': 'balanced_subsample', 'n_estimators': 10, 'max_features': 'sqrt'}\n",
      "mean: 0.68398, std: 0.00311, params: {'class_weight': 'balanced_subsample', 'n_estimators': 20, 'max_features': 'sqrt'}\n",
      "mean: 0.70677, std: 0.00241, params: {'class_weight': 'balanced_subsample', 'n_estimators': 50, 'max_features': 'sqrt'}\n",
      "mean: 0.64480, std: 0.00584, params: {'class_weight': 'balanced_subsample', 'n_estimators': 10, 'max_features': 'log2'}\n",
      "mean: 0.67204, std: 0.00387, params: {'class_weight': 'balanced_subsample', 'n_estimators': 20, 'max_features': 'log2'}\n",
      "mean: 0.69868, std: 0.00313, params: {'class_weight': 'balanced_subsample', 'n_estimators': 50, 'max_features': 'log2'}\n",
      "mean: 0.67535, std: 0.00565, params: {'class_weight': 'balanced_subsample', 'n_estimators': 10, 'max_features': None}\n",
      "mean: 0.69282, std: 0.00339, params: {'class_weight': 'balanced_subsample', 'n_estimators': 20, 'max_features': None}\n",
      "mean: 0.70852, std: 0.00259, params: {'class_weight': 'balanced_subsample', 'n_estimators': 50, 'max_features': None}\n",
      "mean: 0.65962, std: 0.00259, params: {'class_weight': None, 'n_estimators': 10, 'max_features': 'sqrt'}\n",
      "mean: 0.68385, std: 0.00144, params: {'class_weight': None, 'n_estimators': 20, 'max_features': 'sqrt'}\n",
      "mean: 0.70670, std: 0.00266, params: {'class_weight': None, 'n_estimators': 50, 'max_features': 'sqrt'}\n",
      "mean: 0.64726, std: 0.00447, params: {'class_weight': None, 'n_estimators': 10, 'max_features': 'log2'}\n",
      "mean: 0.67553, std: 0.00298, params: {'class_weight': None, 'n_estimators': 20, 'max_features': 'log2'}\n",
      "mean: 0.70000, std: 0.00457, params: {'class_weight': None, 'n_estimators': 50, 'max_features': 'log2'}\n",
      "mean: 0.67526, std: 0.00530, params: {'class_weight': None, 'n_estimators': 10, 'max_features': None}\n",
      "mean: 0.69392, std: 0.00304, params: {'class_weight': None, 'n_estimators': 20, 'max_features': None}\n",
      "mean: 0.70809, std: 0.00219, params: {'class_weight': None, 'n_estimators': 50, 'max_features': None}\n",
      "BestParams:   {'class_weight': 'balanced', 'n_estimators': 50, 'max_features': None}\n"
     ]
    }
   ],
   "source": [
    "for x in gridmodel.grid_scores_:\n",
    "    print(x)\n",
    "print('BestParams:  ',gridmodel.best_params_)"
   ]
  },
  {
   "cell_type": "code",
   "execution_count": null,
   "metadata": {
    "collapsed": false
   },
   "outputs": [
    {
     "name": "stdout",
     "output_type": "stream",
     "text": [
      "             precision    recall  f1-score   support\n",
      "\n",
      "      False      0.688     0.778     0.730     11658\n",
      "       True      0.738     0.639     0.685     11383\n",
      "\n",
      "avg / total      0.713     0.709     0.708     23041\n",
      "\n"
     ]
    }
   ],
   "source": [
    "print(clf_report(test_object.labels, gridmodel.predict(test_features), digits=3))"
   ]
  },
  {
   "cell_type": "markdown",
   "metadata": {
    "collapsed": true
   },
   "source": [
    "### Round 2 GridSearch"
   ]
  },
  {
   "cell_type": "code",
   "execution_count": 13,
   "metadata": {
    "collapsed": true
   },
   "outputs": [],
   "source": [
    "from sklearn.grid_search import GridSearchCV\n",
    "\n",
    "params = {'n_estimators':[50,100,150],\n",
    "          'max_features':[None],\n",
    "          'class_weight':['balanced','balanced_subsample']\n",
    "         }\n",
    "\n",
    "gridmodel2 = GridSearchCV(RCF(random_state=17,n_jobs=-1), cv=5, n_jobs=-1, param_grid=params)"
   ]
  },
  {
   "cell_type": "code",
   "execution_count": null,
   "metadata": {
    "collapsed": false
   },
   "outputs": [
    {
     "data": {
      "text/plain": [
       "GridSearchCV(cv=5, error_score='raise',\n",
       "       estimator=RandomForestClassifier(bootstrap=True, class_weight=None, criterion='gini',\n",
       "            max_depth=None, max_features='auto', max_leaf_nodes=None,\n",
       "            min_samples_leaf=1, min_samples_split=2,\n",
       "            min_weight_fraction_leaf=0.0, n_estimators=10, n_jobs=-1,\n",
       "            oob_score=False, random_state=17, verbose=0, warm_start=False),\n",
       "       fit_params={}, iid=True, n_jobs=-1,\n",
       "       param_grid={'class_weight': ['balanced', 'balanced_subsample'], 'n_estimators': [50, 100, 150], 'max_features': [None]},\n",
       "       pre_dispatch='2*n_jobs', refit=True, scoring=None, verbose=0)"
      ]
     },
     "execution_count": 28,
     "metadata": {},
     "output_type": "execute_result"
    }
   ],
   "source": [
    "gridmodel2.fit(train_features, train_object.labels)"
   ]
  },
  {
   "cell_type": "code",
   "execution_count": null,
   "metadata": {
    "collapsed": false
   },
   "outputs": [
    {
     "name": "stdout",
     "output_type": "stream",
     "text": [
      "mean: 0.70875, std: 0.00168, params: {'class_weight': 'balanced', 'n_estimators': 50, 'max_features': None}\n",
      "mean: 0.71321, std: 0.00287, params: {'class_weight': 'balanced', 'n_estimators': 100, 'max_features': None}\n",
      "mean: 0.71556, std: 0.00291, params: {'class_weight': 'balanced', 'n_estimators': 150, 'max_features': None}\n",
      "mean: 0.70852, std: 0.00259, params: {'class_weight': 'balanced_subsample', 'n_estimators': 50, 'max_features': None}\n",
      "mean: 0.71293, std: 0.00338, params: {'class_weight': 'balanced_subsample', 'n_estimators': 100, 'max_features': None}\n",
      "mean: 0.71513, std: 0.00171, params: {'class_weight': 'balanced_subsample', 'n_estimators': 150, 'max_features': None}\n",
      "BestParams:   {'class_weight': 'balanced', 'n_estimators': 150, 'max_features': None}\n"
     ]
    }
   ],
   "source": [
    "for x in gridmodel2.grid_scores_:\n",
    "    print(x)\n",
    "print('BestParams:  ',gridmodel2.best_params_)"
   ]
  },
  {
   "cell_type": "code",
   "execution_count": null,
   "metadata": {
    "collapsed": false
   },
   "outputs": [
    {
     "name": "stdout",
     "output_type": "stream",
     "text": [
      "             precision    recall  f1-score   support\n",
      "\n",
      "      False      0.695     0.783     0.737     11658\n",
      "       True      0.745     0.648     0.693     11383\n",
      "\n",
      "avg / total      0.720     0.717     0.715     23041\n",
      "\n"
     ]
    }
   ],
   "source": [
    "print(clf_report(test_object.labels, gridmodel2.predict(test_features), digits=3))"
   ]
  },
  {
   "cell_type": "markdown",
   "metadata": {
    "collapsed": true
   },
   "source": [
    "### Round 3 GridSearch"
   ]
  },
  {
   "cell_type": "code",
   "execution_count": null,
   "metadata": {
    "collapsed": true
   },
   "outputs": [],
   "source": [
    "from sklearn.grid_search import GridSearchCV\n",
    "\n",
    "params = {'n_estimators':[200,300,400]\n",
    "         }\n",
    "\n",
    "gridmodel3 = GridSearchCV(RCF(random_state=17,n_jobs=-1,class_weight='balanced'), cv=5, n_jobs=-1, param_grid=params)"
   ]
  },
  {
   "cell_type": "code",
   "execution_count": null,
   "metadata": {
    "collapsed": false
   },
   "outputs": [
    {
     "data": {
      "text/plain": [
       "GridSearchCV(cv=5, error_score='raise',\n",
       "       estimator=RandomForestClassifier(bootstrap=True, class_weight='balanced',\n",
       "            criterion='gini', max_depth=None, max_features='auto',\n",
       "            max_leaf_nodes=None, min_samples_leaf=1, min_samples_split=2,\n",
       "            min_weight_fraction_leaf=0.0, n_estimators=10, n_jobs=-1,\n",
       "            oob_score=False, random_state=17, verbose=0, warm_start=False),\n",
       "       fit_params={}, iid=True, n_jobs=-1,\n",
       "       param_grid={'n_estimators': [200, 300, 400]},\n",
       "       pre_dispatch='2*n_jobs', refit=True, scoring=None, verbose=0)"
      ]
     },
     "execution_count": 15,
     "metadata": {},
     "output_type": "execute_result"
    }
   ],
   "source": [
    "gridmodel3.fit(train_features, train_object.labels)"
   ]
  },
  {
   "cell_type": "code",
   "execution_count": null,
   "metadata": {
    "collapsed": false
   },
   "outputs": [
    {
     "name": "stdout",
     "output_type": "stream",
     "text": [
      "mean: 0.72497, std: 0.00375, params: {'n_estimators': 200}\n",
      "mean: 0.72674, std: 0.00382, params: {'n_estimators': 300}\n",
      "mean: 0.72867, std: 0.00405, params: {'n_estimators': 400}\n",
      "BestParams:   {'n_estimators': 400}\n"
     ]
    }
   ],
   "source": [
    "for x in gridmodel3.grid_scores_:\n",
    "    print(x)\n",
    "print('BestParams:  ',gridmodel3.best_params_)"
   ]
  },
  {
   "cell_type": "code",
   "execution_count": null,
   "metadata": {
    "collapsed": false
   },
   "outputs": [
    {
     "name": "stdout",
     "output_type": "stream",
     "text": [
      "             precision    recall  f1-score   support\n",
      "\n",
      "      False      0.707     0.791     0.746     11658\n",
      "       True      0.756     0.664     0.707     11383\n",
      "\n",
      "avg / total      0.731     0.728     0.727     23041\n",
      "\n"
     ]
    }
   ],
   "source": [
    "print(clf_report(test_object.labels, gridmodel3.predict(test_features), digits=3))"
   ]
  },
  {
   "cell_type": "code",
   "execution_count": null,
   "metadata": {
    "collapsed": true
   },
   "outputs": [],
   "source": []
  }
 ],
 "metadata": {
  "kernelspec": {
   "display_name": "Python 3",
   "language": "python",
   "name": "python3"
  },
  "language_info": {
   "codemirror_mode": {
    "name": "ipython",
    "version": 3
   },
   "file_extension": ".py",
   "mimetype": "text/x-python",
   "name": "python",
   "nbconvert_exporter": "python",
   "pygments_lexer": "ipython3",
   "version": "3.5.2"
  }
 },
 "nbformat": 4,
 "nbformat_minor": 0
}
