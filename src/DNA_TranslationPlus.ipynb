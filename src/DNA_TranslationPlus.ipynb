{
 "cells": [
  {
   "cell_type": "code",
   "execution_count": 8,
   "metadata": {
    "collapsed": false
   },
   "outputs": [
    {
     "name": "stdout",
     "output_type": "stream",
     "text": [
      "      aa  f_aa   f_tot   F_fam      r_aa  hydrophob_7  aromatic     class\n",
      "codon                                                                    \n",
      "TAA    *  0.61  0.0020  0.0033  0.333333         0.00         0          \n",
      "TAG    *  0.09  0.0003  0.0033  0.333333         0.00         0          \n",
      "TGA    *  0.30  0.0010  0.0033  0.333333         0.00         0          \n",
      "GCT    A  0.18  0.0171  0.0926  0.250000         0.41         0  nonpolar\n",
      "GCC    A  0.26  0.0242  0.0926  0.250000         0.41         0  nonpolar\n"
     ]
    }
   ],
   "source": [
    "import pandas as pd\n",
    "\n",
    "codons = pd.read_csv('../data/CodonUsage_ecoli.csv')\n",
    "codons = codons.set_index('codon')\n",
    "print(codons.head(5))\n",
    "lookup = codons.to_dict(orient='index')"
   ]
  },
  {
   "cell_type": "code",
   "execution_count": 1,
   "metadata": {
    "collapsed": true
   },
   "outputs": [],
   "source": [
    "with open('../data/tmp_seq_rpoB-20kb.txt', 'r') as f:\n",
    "    seq = f.read()"
   ]
  },
  {
   "cell_type": "raw",
   "metadata": {
    "collapsed": true
   },
   "source": [
    "seq = 'acgatcgatcgatcgatagatcagtcgatcggatgagcgagctagacgatcgcgctactaatcaggcatcgact'\n",
    "# acg atc gat cga tcg ata gat cag tcg atc gga TGA gcg agc TAG acg atc gcg cta cta atc agg cat cga ct\n",
    "# a cga tcg atc gat cga TAG atc agt cga tcg gat gag cga gct aga cga tcg cgc tac TAA tca ggc atc gac t \n",
    "# ac gat cga tcg atc gat aga tca gtc gat cgg atg agc gag cta gac gat cgc gct act aat cag gca tcg act "
   ]
  },
  {
   "cell_type": "code",
   "execution_count": 2,
   "metadata": {
    "collapsed": false
   },
   "outputs": [],
   "source": [
    "import re\n",
    "from collections import defaultdict as ddict\n",
    "\n",
    "class DNAFeatureExtraction:\n",
    "    '''parent class for dna translation and feature initialization'''\n",
    "    def __init__(self, seq):\n",
    "        self.seq = seq.upper()\n",
    "        self.frames = [0,1,2] # frames\n",
    "        self.stops_reg = re.compile('|'.join(['TAA','TAG','TGA'])) # define stops  \n",
    "        \n",
    "    def stop_delimited_frames(self):\n",
    "        '''Find/Split all possible stop-delimited coding frames\\naggregate to single list'''\n",
    "        elements = ddict(list) # initialize result container\n",
    "        indicies = ddict(list) # initialize indicies container\n",
    "        idx = {0:0,1:1,2:2} # starting frame indicies\n",
    "\n",
    "        # progressively search for stop codons, increment result vectors by frame\n",
    "        i = max(idx.values())\n",
    "        while i < len(self.seq):\n",
    "            x = re.search(self.stops_reg, self.seq[i:]) # find next stop\n",
    "            if x:\n",
    "                frame = (x.start()+i)%3 # establish frame\n",
    "                sequence = self.seq[idx[frame]:x.end()+i] # grab sequence from previous frame end\n",
    "        #         print(frame, x.group(), sequence)\n",
    "                elements[frame].append(sequence)\n",
    "                indicies[frame].append(idx[frame])\n",
    "                idx[frame] = x.end()+i # update frame start index\n",
    "                i = max(idx.values())-2 # set new search start (next frame)\n",
    "\n",
    "            else: # cap all vectors with the remaining non-stopped sequence\n",
    "                for x in self.frames:\n",
    "                    sequence = self.seq[idx[x]:]\n",
    "                    elements[x].append(sequence[:len(sequence)-(len(sequence)%3)]) # trim to full codons\n",
    "                    indicies[x].append(idx[x])\n",
    "                break\n",
    "        # aggregate to single list\n",
    "        self.fragments = [x for frame in elements.values() for x in frame]\n",
    "        self.frag_index = [x for frame in indicies.values() for x in frame] # global index\n",
    "\n",
    "    def decode_dna(self, lookup):\n",
    "        '''translate dna sequence, compile derived AA features'''\n",
    "        self.peptides = []\n",
    "        self.peptide_id = []\n",
    "        self.codon_pref = []\n",
    "        self.aa_hydrophob = []\n",
    "        self.aa_aromatic = []\n",
    "        self.aa_class = []\n",
    "        for j,seq in enumerate(self.fragments):\n",
    "            prot = ''\n",
    "            pid, pref, aa_h, aa_a, aa_c = [],[],[],[],[]\n",
    "            for i in range(0,len(seq),3):\n",
    "                entry = lookup[seq[i:i+3]]\n",
    "                prot += entry['aa']\n",
    "                # add'nl properties:\n",
    "                pid.append(self.frag_index[j])\n",
    "                pref.append(entry['f_aa']/entry['r_aa'])\n",
    "                aa_h.append(entry['hydrophob_7'])\n",
    "                aa_a.append(entry['aromatic'])\n",
    "                aa_c.append(entry['class'])\n",
    "            self.peptides.append(prot)\n",
    "            self.peptide_id.append(pid)\n",
    "            self.codon_pref.append(pref)\n",
    "            self.aa_hydrophob.append(aa_h)\n",
    "            self.aa_aromatic.append(aa_a)\n",
    "            self.aa_class.append(aa_c)\n",
    "    \n",
    "    def zip_all(self):\n",
    "        '''list of (amino_acid, codon_pref, hydrophob, aromatic, class, global_peptide_index)'''\n",
    "        return [list(zip(aa,pref,aah,aaa,aac,pix)) \n",
    "                for aa,pref,aah,aaa,aac,pix \n",
    "                in zip(self.peptides,self.codon_pref,self.aa_hydrophob,\n",
    "                       self.aa_aromatic,self.aa_class,self.peptide_id)]"
   ]
  },
  {
   "cell_type": "code",
   "execution_count": 6,
   "metadata": {
    "collapsed": false
   },
   "outputs": [
    {
     "name": "stdout",
     "output_type": "stream",
     "text": [
      "['CATTACTGTCACAATTTCCAACAGCACCAAATTACCCCCAGGCGGATGGTTCAGTAA', 'AACTGGCAGCAGGTTGGCTTATCGATCAGTGCCAGCTAA', 'AAGGGATGCAAATAG', 'GTGGGGCTGCGGTGCACCGTCAACAGGCGTTAG', 'TTCTCATTAATGAAGACAATGCAAAAAGCGAAGATGTTGTACAGCTGGCGCATCATGTAA', 'GACAGAAAGTTGGTGAAAAATTTAATGTCTGGCTTGAGCCTGAAGTCCGCTTTATTGGTGCATCAGGTGAAGTGA', 'GCGCAGTGGAGACAATTTCATGAAGGATAA', 'CACCGTGCCACTGAAATTGATTGCCCTGTTAGCGAACGGTGA', 'ATTTCACTCTGGCGAGCAGTTGGGTGA', 'AACGCTGGGAATGAGCCGGGCGGCTATTAA']\n",
      "[0, 57, 96, 111, 144, 204, 279, 309, 351, 378]\n"
     ]
    }
   ],
   "source": [
    "seq_object = DNAFeatureExtraction(seq)\n",
    "seq_object.stop_delimited_frames()\n",
    "print(seq_object.fragments[:10])\n",
    "print(seq_object.frag_index[:10])"
   ]
  },
  {
   "cell_type": "code",
   "execution_count": 9,
   "metadata": {
    "collapsed": false
   },
   "outputs": [
    {
     "name": "stdout",
     "output_type": "stream",
     "text": [
      "['HYCHNFQQHQITPRRMVQ*', 'NWQQVGLSISAS*', 'KGCK*', 'VGLRCTVNRR*', 'FSLMKTMQKAKMLYSWRIM*', 'DRKLVKNLMSGLSLKSALLVHQVK*', 'AQWRQFHEG*', 'HRATEIDCPVSER*', 'ISLWRAVG*', 'NAGNEPGGY*']\n",
      "[[1.14, 0.82, 0.92, 0.86, 0.98, 0.84, 0.68, 1.32, 0.86, 0.68, 1.4700000014699999, 1.6, 0.52, 0.23999999952, 0.65999999868, 1.0, 1.12, 1.32, 1.83000000183], [1.02, 1.0, 1.32, 1.32, 1.12, 1.48, 0.8399999983200002, 0.8399999983200002, 1.17000000117, 0.95999999808, 1.04, 1.4999999970000002, 1.83000000183], [0.52, 0.52, 1.08, 1.48, 0.27000000027], [1.4, 0.6, 2.81999999436, 0.65999999868, 1.08, 1.6, 0.8, 1.02, 0.23999999952, 2.1599999956800002, 0.27000000027]]\n",
      "[[('H', 1.14, 0.08, 1, 'basic', 0), ('Y', 0.82, 0.63, 1, 'polar', 0), ('C', 0.92, 0.49, 0, 'polar', 0), ('H', 0.86, 0.08, 1, 'basic', 0), ('N', 0.98, -0.28, 0, 'polar', 0), ('F', 0.84, 1.0, 1, 'nonpolar', 0), ('Q', 0.68, -0.1, 0, 'polar', 0), ('Q', 1.32, -0.1, 0, 'polar', 0), ('H', 0.86, 0.08, 1, 'basic', 0), ('Q', 0.68, -0.1, 0, 'polar', 0), ('I', 1.4700000014699999, 0.99, 0, 'nonpolar', 0), ('T', 1.6, 0.13, 0, 'polar', 0), ('P', 0.52, -0.46, 0, 'nonpolar', 0), ('R', 0.23999999952, -0.14, 0, 'basic', 0), ('R', 0.65999999868, -0.14, 0, 'basic', 0), ('M', 1.0, 0.74, 0, 'nonpolar', 0), ('V', 1.12, 0.76, 0, 'nonpolar', 0), ('Q', 1.32, -0.1, 0, 'polar', 0), ('*', 1.83000000183, 0.0, 0, ' ', 0)], [('N', 1.02, -0.28, 0, 'polar', 57), ('W', 1.0, 0.97, 1, 'nonpolar', 57), ('Q', 1.32, -0.1, 0, 'polar', 57), ('Q', 1.32, -0.1, 0, 'polar', 57), ('V', 1.12, 0.76, 0, 'nonpolar', 57), ('G', 1.48, 0.0, 0, 'polar', 57), ('L', 0.8399999983200002, 0.97, 0, 'nonpolar', 57), ('S', 0.8399999983200002, -0.05, 0, 'polar', 57), ('I', 1.17000000117, 0.99, 0, 'nonpolar', 57), ('S', 0.95999999808, -0.05, 0, 'polar', 57), ('A', 1.04, 0.41, 0, 'nonpolar', 57), ('S', 1.4999999970000002, -0.05, 0, 'polar', 57), ('*', 1.83000000183, 0.0, 0, ' ', 57)], [('K', 0.52, -0.23, 0, 'basic', 96), ('G', 0.52, 0.0, 0, 'polar', 96), ('C', 1.08, 0.49, 0, 'polar', 96), ('K', 1.48, -0.23, 0, 'basic', 96), ('*', 0.27000000027, 0.0, 0, ' ', 96)], [('V', 1.4, 0.76, 0, 'nonpolar', 111), ('G', 0.6, 0.0, 0, 'polar', 111), ('L', 2.81999999436, 0.97, 0, 'nonpolar', 111), ('R', 0.65999999868, -0.14, 0, 'basic', 111), ('C', 1.08, 0.49, 0, 'polar', 111), ('T', 1.6, 0.13, 0, 'polar', 111), ('V', 0.8, 0.76, 0, 'nonpolar', 111), ('N', 1.02, -0.28, 0, 'polar', 111), ('R', 0.23999999952, -0.14, 0, 'basic', 111), ('R', 2.1599999956800002, -0.14, 0, 'basic', 111), ('*', 0.27000000027, 0.0, 0, ' ', 111)]]\n"
     ]
    }
   ],
   "source": [
    "seq_object.decode_dna(lookup)\n",
    "print(seq_object.peptides[:10])\n",
    "print(seq_object.codon_pref[:4])\n",
    "print(seq_object.zip_all()[:4])"
   ]
  },
  {
   "cell_type": "code",
   "execution_count": null,
   "metadata": {
    "collapsed": true
   },
   "outputs": [],
   "source": []
  }
 ],
 "metadata": {
  "kernelspec": {
   "display_name": "Python 3",
   "language": "python",
   "name": "python3"
  },
  "language_info": {
   "codemirror_mode": {
    "name": "ipython",
    "version": 3
   },
   "file_extension": ".py",
   "mimetype": "text/x-python",
   "name": "python",
   "nbconvert_exporter": "python",
   "pygments_lexer": "ipython3",
   "version": "3.5.2"
  }
 },
 "nbformat": 4,
 "nbformat_minor": 0
}
