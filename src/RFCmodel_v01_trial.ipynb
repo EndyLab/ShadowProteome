{
 "cells": [
  {
   "cell_type": "code",
   "execution_count": 1,
   "metadata": {
    "collapsed": false
   },
   "outputs": [],
   "source": [
    "import numpy as np\n",
    "import pandas as pd\n",
    "import dill as pickle\n",
    "\n",
    "%load_ext autoreload\n",
    "%autoreload 1\n",
    "%aimport CodingFeatures\n",
    "%aimport CodingTransformers"
   ]
  },
  {
   "cell_type": "code",
   "execution_count": 2,
   "metadata": {
    "collapsed": false
   },
   "outputs": [],
   "source": [
    "from CodingFeatures import reverse_complement\n",
    "\n",
    "with open('../data/BW25113genome.txt','r') as f:\n",
    "    seq_raw_f = f.readlines()\n",
    "seq_raw_f = [x.strip().upper() for x in seq_raw_f]\n",
    "seq_raw_f = ''.join(seq_raw_f)\n",
    "seq_raw_rc = reverse_complement(seq_raw_f)"
   ]
  },
  {
   "cell_type": "markdown",
   "metadata": {},
   "source": [
    "## Import and initialize genome data and reference tables"
   ]
  },
  {
   "cell_type": "code",
   "execution_count": 3,
   "metadata": {
    "collapsed": true
   },
   "outputs": [],
   "source": [
    "from CodingFeatures import codon_lookup\n",
    "\n",
    "codon_table, c_lookup = codon_lookup()\n",
    "AA_list = codon_table['aa'].unique()[1:]"
   ]
  },
  {
   "cell_type": "code",
   "execution_count": 138,
   "metadata": {
    "collapsed": false
   },
   "outputs": [],
   "source": [
    "from CodingFeatures import DNAAttributeConstruction, fragment_stop_delimited, fragment_windowed\n",
    "\n",
    "genomeF_object = DNAAttributeConstruction(seq_raw_f).decode_dna(c_lookup)\n",
    "genomeR_object = DNAAttributeConstruction(seq_raw_rc).decode_dna(c_lookup)"
   ]
  },
  {
   "cell_type": "markdown",
   "metadata": {},
   "source": [
    "## Feature extraction and model predictions"
   ]
  },
  {
   "cell_type": "raw",
   "metadata": {
    "collapsed": true
   },
   "source": [
    "from CodingFeatures import zerocross_pack, codon_bias_rms, aa_pack, class_pack, statpack1, statpack2\n",
    "from CodingTransformers import ArrayFunctionTransformer\n",
    "import sklearn as sk\n",
    "from sklearn.pipeline import Pipeline, FeatureUnion\n",
    "from sklearn.ensemble import RandomForestClassifier as RCF\n",
    "from sklearn.metrics import classification_report as clf_report"
   ]
  },
  {
   "cell_type": "code",
   "execution_count": 5,
   "metadata": {
    "collapsed": false
   },
   "outputs": [],
   "source": [
    "with open('../models/FU_v01a.pkl','rb') as f:\n",
    "    FU = pickle.load(f)\n",
    "\n",
    "with open('../models/RFCmodel_v01a.pkl','rb') as f:\n",
    "    model = pickle.load(f)"
   ]
  },
  {
   "cell_type": "code",
   "execution_count": 6,
   "metadata": {
    "collapsed": true
   },
   "outputs": [],
   "source": [
    "genomeF_features = FU.transform(genomeF_object)\n",
    "genomeR_features = FU.transform(genomeR_object)"
   ]
  },
  {
   "cell_type": "code",
   "execution_count": 7,
   "metadata": {
    "collapsed": false
   },
   "outputs": [],
   "source": [
    "with open('../models/features_genome_v01a.pkl','wb') as f:\n",
    "    pickle.dump((genomeF_features,genomeR_features),f)"
   ]
  },
  {
   "cell_type": "code",
   "execution_count": null,
   "metadata": {
    "collapsed": true
   },
   "outputs": [],
   "source": [
    "with open('../models/features_genome_v01a.pkl','rb') as f:\n",
    "    genomeF_features,genomeR_features = pickle.load(f)"
   ]
  },
  {
   "cell_type": "code",
   "execution_count": 140,
   "metadata": {
    "collapsed": false
   },
   "outputs": [],
   "source": [
    "import matplotlib\n",
    "import matplotlib.pyplot as plt\n",
    "import seaborn as sns\n",
    "%matplotlib inline"
   ]
  },
  {
   "cell_type": "code",
   "execution_count": 168,
   "metadata": {
    "collapsed": false
   },
   "outputs": [],
   "source": [
    "def get_results(obj, features, model, reverse=False, max_len=len(seq_raw_rc)):\n",
    "    '''Grab object info and model predictions.  Reverses index values for RC strand.'''\n",
    "    results = pd.DataFrame(obj.frag_index, columns=['idg', 'idn'])\n",
    "    results['seq_frag'] = obj.fragments\n",
    "    results['end_frag'] = results.idn + results.seq_frag.map(len)\n",
    "    results['predict'] = model.predict(features)\n",
    "    results['strand'] = 1\n",
    "    if reverse:\n",
    "        results['idg'] = max_len - results['idg']\n",
    "        results['idn'] = max_len - results['idn']        \n",
    "        results['end_frag'] = max_len - results['end_frag']\n",
    "        results['strand'] = -1\n",
    "    return results"
   ]
  },
  {
   "cell_type": "code",
   "execution_count": 181,
   "metadata": {
    "collapsed": false
   },
   "outputs": [],
   "source": [
    "results = get_results(genomeF_object, genomeF_features, model)\n",
    "results = results.append(get_results(genomeR_object, genomeR_features, model, True))"
   ]
  },
  {
   "cell_type": "code",
   "execution_count": 182,
   "metadata": {
    "collapsed": false
   },
   "outputs": [],
   "source": [
    "from CodingFeatures import seq_merge\n",
    "\n",
    "summary = pd.DataFrame()\n",
    "summary['start'] = results.groupby(['idg','strand']).apply(lambda x: x.idn.min()+1 if x.strand.mean() > 0 else x.idn.max()+1)\n",
    "summary['stop'] = results.groupby(['idg','strand']).apply(lambda x: x.end_frag.max() if x.strand.mean() > 0 else x.end_frag.min()+1)\n",
    "summary['avg_score'] = results.groupby(['idg','strand']).predict.mean()\n",
    "summary['n_windows'] = results.groupby(['idg','strand']).predict.count()\n",
    "summary['seq'] = results.groupby(['idg','strand']).seq_frag.apply(seq_merge)\n",
    "summary.reset_index(inplace=True)\n",
    "\n",
    "stat_pos, stat_tot = summary[summary.avg_score >= .5].avg_score.count(), summary.shape[0]"
   ]
  },
  {
   "cell_type": "code",
   "execution_count": 158,
   "metadata": {
    "collapsed": false,
    "scrolled": false
   },
   "outputs": [
    {
     "data": {
      "text/plain": [
       "<matplotlib.collections.PathCollection at 0x1653bc358>"
      ]
     },
     "execution_count": 158,
     "metadata": {},
     "output_type": "execute_result"
    },
    {
     "data": {
      "image/png": "[encoded data removed]",
      "text/plain": [
       "<matplotlib.figure.Figure at 0x16372c978>"
      ]
     },
     "metadata": {},
     "output_type": "display_data"
    }
   ],
   "source": [
    "fig,ax = plt.subplots(figsize=(18,6))\n",
    "ax.set_title('Predictions on GENOME — Positively Classified ORFs:  {0} of {1}; {2:.{3}f}'.format(stat_pos,stat_tot,stat_pos/stat_tot,2))\n",
    "ax.set_xlabel('Windows in ORF')\n",
    "ax.set_ylabel('Mean Score')\n",
    "ax.hlines(.5,0,140,linestyles='dashed', color='grey')\n",
    "sns.kdeplot(summary[['n_windows','avg_score']], shade=True, shade_lowest=False, ax=ax)\n",
    "ax.scatter(summary.n_windows, summary.avg_score, color='magenta', alpha=.5, s=10)"
   ]
  },
  {
   "cell_type": "code",
   "execution_count": 159,
   "metadata": {
    "collapsed": false
   },
   "outputs": [
    {
     "name": "stdout",
     "output_type": "stream",
     "text": [
      "Index(['idg', 'idn', 'seq_frag', 'end_frag', 'predict', 'strand'], dtype='object')\n",
      "Index(['idg', 'strand', 'start', 'stop', 'avg_score', 'n_windows', 'seq'], dtype='object')\n"
     ]
    }
   ],
   "source": [
    "print(results.columns)\n",
    "print(summary.columns)"
   ]
  },
  {
   "cell_type": "code",
   "execution_count": 171,
   "metadata": {
    "collapsed": false
   },
   "outputs": [],
   "source": [
    "# get annotated protein sequences\n",
    "annotated = pd.read_csv('../data/BW25113proteome_dnaseq.csv') # get full sheet\n",
    "annotated = annotated.drop_duplicates('seq').dropna() # drop duplicated proteins and missing DNA_seq\n",
    "annotated['DNA_seq'] = annotated['DNA_seq'].apply(lambda x: x[3:]) # trim start codons from DNA_seq\n",
    "annotated['start'] = annotated['start'] + 3 # increment sequence location index"
   ]
  },
  {
   "cell_type": "code",
   "execution_count": 205,
   "metadata": {
    "collapsed": false,
    "scrolled": true
   },
   "outputs": [],
   "source": [
    "joined = pd.merge(annotated, summary, 'outer', 'stop', suffixes=('_an', '_pred'))\n",
    "joined.sort_values('stop', inplace=True)"
   ]
  },
  {
   "cell_type": "code",
   "execution_count": 206,
   "metadata": {
    "collapsed": false
   },
   "outputs": [],
   "source": [
    "joined.to_csv('../output/genome_predictions_v01a.csv')"
   ]
  },
  {
   "cell_type": "code",
   "execution_count": null,
   "metadata": {
    "collapsed": true
   },
   "outputs": [],
   "source": []
  }
 ],
 "metadata": {
  "kernelspec": {
   "display_name": "Python 3",
   "language": "python",
   "name": "python3"
  },
  "language_info": {
   "codemirror_mode": {
    "name": "ipython",
    "version": 3
   },
   "file_extension": ".py",
   "mimetype": "text/x-python",
   "name": "python",
   "nbconvert_exporter": "python",
   "pygments_lexer": "ipython3",
   "version": "3.5.2"
  }
 },
 "nbformat": 4,
 "nbformat_minor": 0
}
